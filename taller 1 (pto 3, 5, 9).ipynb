{
 "cells": [
  {
   "attachments": {},
   "cell_type": "markdown",
   "metadata": {},
   "source": [
    "3. Realice un programa que lea un número enteros y determine si es par o impar."
   ]
  },
  {
   "cell_type": "code",
   "execution_count": 22,
   "metadata": {},
   "outputs": [
    {
     "name": "stdout",
     "output_type": "stream",
     "text": [
      "El número entero 21 no es un número par\n"
     ]
    }
   ],
   "source": [
    "n = int(input(\"Ingrese un número entero: \"))\n",
    "\n",
    "if n % 2 != 0:\n",
    "    print(\"El número entero \" + str(n) + \" no es un número par\")\n",
    "else:\n",
    "    print(\"El número entero \" + str(n) + \" es un número par \")\n"
   ]
  },
  {
   "attachments": {},
   "cell_type": "markdown",
   "metadata": {},
   "source": [
    "5. Realice un programa que lea tres números reales y determine si la suma de los dos primeros es mayor, menor o igual que el tercer número."
   ]
  },
  {
   "cell_type": "code",
   "execution_count": 1,
   "metadata": {},
   "outputs": [
    {
     "name": "stdout",
     "output_type": "stream",
     "text": [
      "La suma de los dos primeros números es igual que el tercero\n"
     ]
    }
   ],
   "source": [
    "numero1: float\n",
    "numero1 = float(input(\"Insertar valor de numero1\"))\n",
    "numero2: float\n",
    "numero2 = float(input(\"Insertar valor de numero2\"))\n",
    "numero3: float\n",
    "numero3 = float(input(\"Insertar valor de numero3\"))\n",
    "\n",
    "if numero1+numero2 < numero3:\n",
    "    print(\"La suma de los dos primeros números es menor que el tercero\")\n",
    "elif numero1+numero2 > numero3:\n",
    "    print(\"La suma de los dos primeros números es mayor que el tercero\")\n",
    "else:\n",
    "    print(\"La suma de los dos primeros números es igual que el tercero\")"
   ]
  },
  {
   "attachments": {},
   "cell_type": "markdown",
   "metadata": {},
   "source": [
    "9. Escriba un programa que reciba el nombre en minúsculas de un país de America y retorne la ciudad capital, si el país no pertenece al continente debe arrojar país no identificado.\n",
    "\n"
   ]
  },
  {
   "cell_type": "code",
   "execution_count": 23,
   "metadata": {},
   "outputs": [
    {
     "name": "stdout",
     "output_type": "stream",
     "text": [
      "argentina es un Pais del continente de América\n",
      "la capital de argentina es Buenos Aires\n"
     ]
    }
   ],
   "source": [
    "Nombre = input(\"Nombre en minuscula de un pais (si tiene tildes omitalas) \")\n",
    "if Nombre in (\"antigua y barbuda\", \"argentina\", \"bahamas\", \"barbados\", \"belice\", \"bolivia\", \"brasil\", \"canada\", \"chile\", \"colombia\", \"costa rica\", \"cuba\", \"dominica\", \"republica dominicana\", \"ecuador\", \"el salvador\", \"estados unidos\", \"granada\", \"guatemala\", \"guyana\", \"haiti\", \"honduras\", \"jamaica\", \"mexico\", \"nicaragua\",\"panama\", \"paraguay\", \"peru\", \"san cristóbal y nieves\", \"santa lucia\", \"san vicente y las granadinas\",\"surinam\", \"trinidad y tobago\", \"uruguay\", \"venezuela\"):\n",
    "    print( str(Nombre)+\" es un Pais del continente de América\")\n",
    "\n",
    "if Nombre == \"antigua y barbuda\":\n",
    "  print(\"la capital de \" + str(Nombre)+\" es Saint John\")\n",
    "elif Nombre == \"argentina\":\n",
    "  print(\"la capital de \" + str(Nombre)+ \" es Buenos Aires\")\n",
    "elif Nombre == \"bahamas\":\n",
    "  print(\"la capital de \" + str(Nombre)+ \" es Nassau\")\n",
    "elif Nombre == \"barbados\":\n",
    "  print(\"la capital de \" + str(Nombre)+ \" es Bridgetown\")\n",
    "elif Nombre == \"belice\":\n",
    "  print(\"la capital de \" + str(Nombre)+ \" es Belmopan \")\n",
    "elif Nombre == \"bolivia\":\n",
    "  print(\"la capital de \" + str(Nombre)+ \" es La Paz (sede de gobierno), Sucre (capital constitucional \")\n",
    "elif Nombre == \"brasil\":\n",
    "  print(\"la capital de \" + str(Nombre)+ \" es Brasilia \")\n",
    "elif Nombre == \"canada\":\n",
    "  print(\"la capital de \" + str(Nombre)+ \"  es Ottawa\")\n",
    "elif Nombre == \"chile\":\n",
    "  print(\"la capital de \" + str(Nombre)+ \" es Santiago\")\n",
    "elif Nombre == \"colombia\":\n",
    "  print(\"la capital de \" + str(Nombre)+ \" es Bogotá \")\n",
    "elif Nombre == \"costa rica\":\n",
    "  print(\"la capital de \" + str(Nombre)+ \" es San José\")\n",
    "elif Nombre == \"cuba\":\n",
    "  print(\"la capital de \" + str(Nombre)+ \" es La Habana \")\n",
    "elif Nombre == \"dominica\":\n",
    "  print(\"la capital de \" + str(Nombre)+ \" es Roseau\")\n",
    "elif Nombre == \"republica dominicana\":\n",
    "  print(\"la capital de \" + str(Nombre)+ \" es Santo Domingo\")\n",
    "elif Nombre == \"ecuador\":\n",
    "  print(\"la capital de \" + str(Nombre)+ \" es Quito\")\n",
    "elif Nombre == \"el salvador\":\n",
    "  print(\"la capital de \" + str(Nombre)+ \" es San Salvador\")\n",
    "elif Nombre == \"estados unidos\":\n",
    "  print(\"la capital de \" + str(Nombre)+ \" es Washington D.C. \")\n",
    "elif Nombre == \"granada\":\n",
    "  print(\"la capital de \" + str(Nombre)+ \" es Saint George's \")\n",
    "elif Nombre == \"guatemala\":\n",
    "  print(\"la capital de \" + str(Nombre)+ \" es Ciudad de Guatemala \")\n",
    "elif Nombre == \"guyana\" :\n",
    "  print(\"la capital de \" + str(Nombre)+ \" es Georgetown\")\n",
    "elif Nombre == \"haiti \":\n",
    "  print(\"la capital de \" + str(Nombre)+ \" es Puerto Principe \")\n",
    "elif Nombre == \"honduras\":\n",
    "  print(\"la capital de \" + str(Nombre)+ \" es Tegucigalpa \")\n",
    "elif Nombre == \"jamaica\":\n",
    "  print(\"la capital de \" + str(Nombre)+ \" es Kingston \")\n",
    "elif Nombre == \"mexico\":\n",
    "  print(\"la capital de \" + str(Nombre)+ \" es Ciudad de Mexico\")\n",
    "elif Nombre == \"nicaragua\":\n",
    "  print(\"la capital de \" + str(Nombre)+ \" es Managua \")\n",
    "elif Nombre == \"panama\":\n",
    "  print(\"la capital de \" + str(Nombre)+ \" es Ciudad de Panama\")\n",
    "elif Nombre == \"paraguay\" :\n",
    "  print(\"la capital de \" + str(Nombre)+ \" es Asunción \")\n",
    "elif Nombre == \"peru\":\n",
    "  print(\"la capital de \" + str(Nombre)+ \" es Lima \")\n",
    "elif Nombre == \"san cristobal y nieves\":\n",
    "  print(\"la capital de \" + str(Nombre)+ \" es Basseterre\")\n",
    "elif Nombre == \"santa lucia\":\n",
    "  print(\"la capital de \" + str(Nombre)+ \" es Castries\")\n",
    "elif Nombre == \"san vicente y las granadinas\":\n",
    "  print(\"la capital de \" + str(Nombre)+ \" es Kingstown\")\n",
    "elif Nombre == \"surinam\":\n",
    "  print(\"la capital de \" + str(Nombre)+ \" es Paramaribo \")\n",
    "elif Nombre == \"trinidad y tobago\":\n",
    "  print(\"la capital de \" + str(Nombre)+ \" es Puerto España\")\n",
    "elif Nombre == \"uruguay\":\n",
    "  print(\"la capital de \" + str(Nombre)+ \"  es Montevideo\")\n",
    "elif Nombre == \"venezuela\":\n",
    "  print(\"la capital de \" + str(Nombre)+ \" es Caracas \")\n",
    "\n",
    "else:\n",
    "  print( str(Nombre) + \" País no identificado.\")"
   ]
  },
  {
   "cell_type": "code",
   "execution_count": null,
   "metadata": {},
   "outputs": [],
   "source": []
  },
  {
   "cell_type": "code",
   "execution_count": null,
   "metadata": {},
   "outputs": [],
   "source": []
  }
 ],
 "metadata": {
  "kernelspec": {
   "display_name": "Python 3",
   "language": "python",
   "name": "python3"
  },
  "language_info": {
   "codemirror_mode": {
    "name": "ipython",
    "version": 3
   },
   "file_extension": ".py",
   "mimetype": "text/x-python",
   "name": "python",
   "nbconvert_exporter": "python",
   "pygments_lexer": "ipython3",
   "version": "3.11.2"
  },
  "orig_nbformat": 4
 },
 "nbformat": 4,
 "nbformat_minor": 2
}
