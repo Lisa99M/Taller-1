{
 "cells": [
  {
   "attachments": {},
   "cell_type": "markdown",
   "metadata": {},
   "source": [
    "# Segundo punto #\n",
    "2. Realice un programa que lea tres números reales y determine cuál es el mayor.\n",
    "\n",
    "En primer lugar se le pedirá al usuario asignar valor a cada una de las variables (a, b y c) que serán almacenadas como flotantes. \n",
    "[![Insertando-valores.png](https://i.postimg.cc/QCjswYK5/Insertando-valores.png)](https://postimg.cc/34fPDBBJ)\n",
    "\n",
    "Se realizan las correspondientes comparaciones a partir de los valores insertados y se establece una alternativa de mensaje para cada situación. \n",
    "[![Ejemplo-con-5-78-y-3.png](https://i.postimg.cc/QtQh6ZCh/Ejemplo-con-5-78-y-3.png)](https://postimg.cc/ftRGLFYr)\n",
    "\n",
    "Código completo:"
   ]
  },
  {
   "cell_type": "code",
   "execution_count": null,
   "metadata": {
    "vscode": {
     "languageId": "plaintext"
    }
   },
   "outputs": [],
   "source": [
    "#Programa para calcular el mayor de tres números reales\n",
    "\n",
    "a: float = input(\"inserte valor de a\")\n",
    "b: float = input(\"inserte valor de b\")\n",
    "c: float = input(\"inserte valor de c\")\n",
    "\n",
    "if a>b>c or a>c>b:\n",
    "    print(\"El mayor número es \" + str(a))\n",
    "elif b>a>c or b>c>a:\n",
    "    print(\"El mayor número es \" + str(b))\n",
    "else:\n",
    "    print(\"El mayor número es \" + str(c))"
   ]
  },
  {
   "attachments": {},
   "cell_type": "markdown",
   "metadata": {},
   "source": [
    "# Quinto punto #\n",
    "5. Realice un programa que lea tres números reales y determine si la suma de los dos primeros es mayor, menor o igual que el tercer número.\n",
    "\n",
    "Igualmente el programa inicia pidiéndole al usuario asignar valor a las variables (numero1, numero2, y numero3) que fueron declaradas como flotantes. Se realiza la suma de los dos primeros números y se establece un mensaje para cada una de las posibles situaciones al comparar el resultado con el tercer valor. \n",
    "[![Ejemplo-con-16-4-y-20.png](https://i.postimg.cc/L8mSsbxb/Ejemplo-con-16-4-y-20.png)](https://postimg.cc/HVvRZBDw)\n",
    "\n",
    "Codigo completo:"
   ]
  },
  {
   "cell_type": "code",
   "execution_count": null,
   "metadata": {
    "vscode": {
     "languageId": "plaintext"
    }
   },
   "outputs": [],
   "source": [
    "# Programa que lee tres números reales y determina si la suma de los dos primeros es mayor, menor o igual que el tercer número.\n",
    "\n",
    "numero1: float\n",
    "numero1 = float(input(\"Insertar valor de numero1\"))\n",
    "numero2: float\n",
    "numero2 = float(input(\"Insertar valor de numero2\"))\n",
    "numero3: float\n",
    "numero3 = float(input(\"Insertar valor de numero3\"))\n",
    "\n",
    "if numero1+numero2 < numero3:\n",
    "    print(\"La suma de los dos primeros números es menor que el tercero\")\n",
    "elif numero1+numero2 > numero3:\n",
    "    print(\"La suma de los dos primeros números es mayor que el tercero\")\n",
    "else:\n",
    "    print(\"La suma de los dos primeros números es igual que el tercero\")"
   ]
  },
  {
   "attachments": {},
   "cell_type": "markdown",
   "metadata": {},
   "source": [
    "# Octavo punto #\n",
    "8. Escriba un programa al que se le ingrese la frecuencia de una onda en hz y como salida arroje en que parte del espectro electromagnético se encuentra.\n",
    "\n",
    "El usuario debe insertar el valor de la frecuencia para el cuál se desea conocer el espectro electromagnético. Dicha variable es previamented declarada y almacenada como un valor flotante. \n",
    "\n",
    "En el programa se establecen los diferentes casos de clasificación dentro del espectro electromagnético de acuerdo a los valores de frecuencia. Si la condición no se cumple se pasa a la siguiente, hasta que se establesca una condicón verdadera y entonces el programa arrojará el mensaje correspondiente.\n",
    "\n",
    "Ejemplo: Para una frecuencia de 67e17:\n",
    "[![Rayos-x-67e17.png](https://i.postimg.cc/j5TM4HPL/Rayos-x-67e17.png)](https://postimg.cc/hJC8S7CB)\n",
    "\n",
    "Para una frecuencia de 589e8:\n",
    "[![microondas-589e8.png](https://i.postimg.cc/s27nW6Bk/microondas-589e8.png)](https://postimg.cc/Y42fKxzR)\n",
    "\n",
    "Los valores de frecuencia asignados a las diferentes fueron tomados de [la vieja confiable](https://es.wikipedia.org/wiki/Espectro_electromagn%C3%A9tico \"la vieja confiable\") \n",
    "\n",
    "[![Espectro.png](https://i.postimg.cc/4xrLmk3v/Espectro.png)](https://postimg.cc/YvzfsPYj)"
   ]
  },
  {
   "cell_type": "code",
   "execution_count": null,
   "metadata": {
    "vscode": {
     "languageId": "plaintext"
    }
   },
   "outputs": [],
   "source": [
    "# Programa al que se le ingresa la frecuencia de una onda en hz y como salida arroja en que parte del espectro electromagnético se encuentra.\n",
    "frecuencia: float\n",
    "frecuencia = float(input(\"Agregar el valor de la frecuencia en Hz, usar notación científica si es necesario: \"))\n",
    "\n",
    "\n",
    "if frecuencia >= 1e19 :\n",
    "    print(\"Rayos gamma\")\n",
    "elif frecuencia >= 30e15 and frecuencia < 30000e15 :\n",
    "    print(\"Rayos X\")\n",
    "elif frecuencia >= 790e12 and frecuencia < 30e15 : \n",
    "    print(\"Radiación ultravioleta\")\n",
    "elif frecuencia >= 430e12 and frecuencia < 790e12 :\n",
    "    print(\"Espectro visible de la luz\")\n",
    "elif frecuencia >= 300e9 and frecuencia < 430e12 : \n",
    "    print(\"Espectro infrarrojo\")\n",
    "elif frecuencia >= 300e6 and frecuencia < 300e9 : \n",
    "    print(\"Radiación de microondas\")\n",
    "elif frecuencia >= 300e6 and frecuencia < 10e9 :\n",
    "    print(\"Ondas de radio de ultra alta frecuencia\")\n",
    "elif frecuencia >= 30e6 and frecuencia > 300e6 :\n",
    "    print(\"Ondas de radio de muy alta frecuencia\")\n",
    "elif frecuencia >= 1e6 and frecuencia < 30e6 :\n",
    "    print(\"Onda corta de radio\")\n",
    "elif frecuencia >= 300e3 and frecuencia < 1e6 :\n",
    "    print(\"Onda media de radio\")\n",
    "elif frecuencia >= 30e3 and frecuencia < 300e3 :\n",
    "    print(\"Onda larga de radio\")\n",
    "else:\n",
    "    frecuencia >= 3 and  frecuencia < 30e3\n",
    "    print(\"Onda de radio de muy baja frecuencia\")"
   ]
  }
 ],
 "metadata": {
  "language_info": {
   "name": "python"
  },
  "orig_nbformat": 4
 },
 "nbformat": 4,
 "nbformat_minor": 2
}
