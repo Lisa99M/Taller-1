{
 "cells": [
  {
   "attachments": {},
   "cell_type": "markdown",
   "metadata": {},
   "source": [
    "### Programa que lee tres números reales y determina si la suma de los dos primeros es mayor, menor o igual que el tercer número.#"
   ]
  },
  {
   "cell_type": "code",
   "execution_count": 32,
   "metadata": {},
   "outputs": [
    {
     "name": "stdout",
     "output_type": "stream",
     "text": [
      "La suma de los dos primeros números es menor que el tercero\n"
     ]
    }
   ],
   "source": [
    "numero1: float\n",
    "numero1 = float(input(\"Insertar valor de numero1\"))\n",
    "numero2: float\n",
    "numero2 = float(input(\"Insertar valor de numero2\"))\n",
    "numero3: float\n",
    "numero3 = float(input(\"Insertar valor de numero3\"))\n",
    "\n",
    "if numero1+numero2 < numero3:\n",
    "    print(\"La suma de los dos primeros números es menor que el tercero\")\n",
    "elif numero1+numero2 > numero3:\n",
    "    print(\"La suma de los dos primeros números es mayor que el tercero\")\n",
    "else:\n",
    "    print(\"La suma de los dos primeros números es igual que el tercero\")"
   ]
  },
  {
   "cell_type": "code",
   "execution_count": null,
   "metadata": {},
   "outputs": [],
   "source": []
  }
 ],
 "metadata": {
  "kernelspec": {
   "display_name": "Python 3",
   "language": "python",
   "name": "python3"
  },
  "language_info": {
   "name": "python",
   "version": "3.11.2"
  },
  "orig_nbformat": 4
 },
 "nbformat": 4,
 "nbformat_minor": 2
}
